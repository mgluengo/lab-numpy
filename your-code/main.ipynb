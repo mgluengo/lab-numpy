{
 "cells": [
  {
   "cell_type": "markdown",
   "metadata": {},
   "source": [
    "# Intrduction to NumPy\n",
    "\n",
    "\n",
    "#### 1. Import NumPy under the name np."
   ]
  },
  {
   "cell_type": "code",
   "execution_count": 1,
   "metadata": {},
   "outputs": [],
   "source": [
    "# your code here\n",
    "import numpy as np"
   ]
  },
  {
   "cell_type": "markdown",
   "metadata": {},
   "source": [
    "#### 2. Print your NumPy version."
   ]
  },
  {
   "cell_type": "code",
   "execution_count": 3,
   "metadata": {},
   "outputs": [
    {
     "name": "stdout",
     "output_type": "stream",
     "text": [
      "1.20.3\n"
     ]
    }
   ],
   "source": [
    "# your code here\n",
    "print(np.__version__)"
   ]
  },
  {
   "cell_type": "markdown",
   "metadata": {},
   "source": [
    "#### 3. Generate a 2x3x5 3-dimensional array with random values. Assign the array to variable *a*.\n",
    "**Challenge**: there are at least three easy ways that use numpy to generate random arrays. How many ways can you find?"
   ]
  },
  {
   "cell_type": "code",
   "execution_count": 4,
   "metadata": {
    "scrolled": true
   },
   "outputs": [
    {
     "name": "stdout",
     "output_type": "stream",
     "text": [
      "[[[0.45042602 0.88836101 0.67249418 0.35368989 0.2106621 ]\n",
      "  [0.43261252 0.16624859 0.48976024 0.53674269 0.2306427 ]\n",
      "  [0.87456477 0.76648544 0.12115395 0.41343812 0.80072039]]\n",
      "\n",
      " [[0.22259706 0.77283324 0.84516887 0.39945478 0.46892946]\n",
      "  [0.52681866 0.6835956  0.30427686 0.89799583 0.72143351]\n",
      "  [0.56693116 0.14887491 0.68612346 0.36715513 0.15148542]]]\n"
     ]
    }
   ],
   "source": [
    "# Method 1\n",
    "#random.random creates random float values between 0 and 1 (1 not included). We provide as input the shape\n",
    "a = np.random.random(size=(2,3,5))\n",
    "print(a)"
   ]
  },
  {
   "cell_type": "code",
   "execution_count": 22,
   "metadata": {},
   "outputs": [
    {
     "name": "stdout",
     "output_type": "stream",
     "text": [
      "[[[-1.12147229  2.28875481 -0.24890365  1.10765741  1.56361773]\n",
      "  [ 0.16736379  1.44047875  0.51580812  0.97796607  0.28891117]\n",
      "  [ 0.45660575 -0.32384668  0.13000476 -0.11719279  0.22016187]]\n",
      "\n",
      " [[ 1.16563502 -0.41438948  1.39035977 -0.2168152   1.29886388]\n",
      "  [ 0.45646185  0.30145095  2.0619674   0.57916816 -0.41762892]\n",
      "  [-1.17580556  0.45181011 -0.47549853  3.20855224  0.32349438]]]\n"
     ]
    }
   ],
   "source": [
    "#Method 2\n",
    "#random.randn generates random float values between 0 and 1 based on the normal distribution, \n",
    "#having the mean equal to 0 and variation equal to 1.\n",
    "\n",
    "a = np.random.randn(2,3,5)\n",
    "print(a)"
   ]
  },
  {
   "cell_type": "code",
   "execution_count": 23,
   "metadata": {},
   "outputs": [
    {
     "name": "stdout",
     "output_type": "stream",
     "text": [
      "[[[69 16 53 33 76]\n",
      "  [66 96 21 59 49]\n",
      "  [13  1 19 90 46]]\n",
      "\n",
      " [[41 45 29 82  9]\n",
      "  [34 57 96 12 16]\n",
      "  [12 84 30 97 49]]]\n"
     ]
    }
   ],
   "source": [
    "# Method 3 - let's say I want to create the array with random values between 0 and 100\n",
    "#random.randint generates random values (int by default) for the given range. We provide the range and shape\n",
    "a = np.random.randint(0,101,(2,3,5))\n",
    "print(a)"
   ]
  },
  {
   "cell_type": "markdown",
   "metadata": {},
   "source": [
    "#### 4. Print *a*.\n"
   ]
  },
  {
   "cell_type": "code",
   "execution_count": 24,
   "metadata": {},
   "outputs": [
    {
     "name": "stdout",
     "output_type": "stream",
     "text": [
      "[[[69 16 53 33 76]\n",
      "  [66 96 21 59 49]\n",
      "  [13  1 19 90 46]]\n",
      "\n",
      " [[41 45 29 82  9]\n",
      "  [34 57 96 12 16]\n",
      "  [12 84 30 97 49]]]\n"
     ]
    }
   ],
   "source": [
    "# your code here\n",
    "#Keeping the third option (ints with randint) for simplicity\n",
    "print(a)"
   ]
  },
  {
   "cell_type": "markdown",
   "metadata": {},
   "source": [
    "#### 5. Create a 5x2x3 3-dimensional array with all values equaling 1. Assign the array to variable *b*."
   ]
  },
  {
   "cell_type": "code",
   "execution_count": 26,
   "metadata": {},
   "outputs": [],
   "source": [
    "# your code here\n",
    "b = np.ones((5,2,3))  #equals np.ones(shape(5,2,3))"
   ]
  },
  {
   "cell_type": "markdown",
   "metadata": {},
   "source": [
    "#### 6. Print *b*.\n"
   ]
  },
  {
   "cell_type": "code",
   "execution_count": 27,
   "metadata": {},
   "outputs": [
    {
     "name": "stdout",
     "output_type": "stream",
     "text": [
      "[[[1. 1. 1.]\n",
      "  [1. 1. 1.]]\n",
      "\n",
      " [[1. 1. 1.]\n",
      "  [1. 1. 1.]]\n",
      "\n",
      " [[1. 1. 1.]\n",
      "  [1. 1. 1.]]\n",
      "\n",
      " [[1. 1. 1.]\n",
      "  [1. 1. 1.]]\n",
      "\n",
      " [[1. 1. 1.]\n",
      "  [1. 1. 1.]]]\n"
     ]
    }
   ],
   "source": [
    "# your code here\n",
    "print(b)"
   ]
  },
  {
   "cell_type": "markdown",
   "metadata": {},
   "source": [
    "#### 7. Do *a* and *b* have the same size? How do you prove that in Python code?"
   ]
  },
  {
   "cell_type": "code",
   "execution_count": 35,
   "metadata": {},
   "outputs": [
    {
     "name": "stdout",
     "output_type": "stream",
     "text": [
      "size of a: 30\n",
      "size of b: 30\n",
      "a and b have the same size: True\n",
      "a and b have the same shape: False\n"
     ]
    }
   ],
   "source": [
    "# your code here\n",
    "# to check if a and b have the same size (i.e. number of elements) we use array_name.size\n",
    "print('size of a:',a.size)\n",
    "print('size of b:',b.size)\n",
    "print('a and b have the same size:', a.size == b.size)\n",
    "\n",
    "print('a and b have the same shape:',a.shape == b.shape)\n",
    "\n",
    "#these 2 arrays have the same size BUT different shapes"
   ]
  },
  {
   "cell_type": "markdown",
   "metadata": {},
   "source": [
    "#### 8. Are you able to add *a* and *b*? Why or why not?\n"
   ]
  },
  {
   "cell_type": "code",
   "execution_count": null,
   "metadata": {},
   "outputs": [],
   "source": [
    "# your answer here\n",
    "# Answer: we can add a and b because they have the same size (number of elements). However,\n",
    "# to add 2 arrays, they also must have the same shape. We need to reshape b first"
   ]
  },
  {
   "cell_type": "markdown",
   "metadata": {},
   "source": [
    "#### 9. Transpose *b* so that it has the same structure of *a* (i.e. become a 2x3x5 array). Assign the transposed array to variable *c*."
   ]
  },
  {
   "cell_type": "code",
   "execution_count": 36,
   "metadata": {},
   "outputs": [
    {
     "name": "stdout",
     "output_type": "stream",
     "text": [
      "[[[1. 1. 1. 1. 1.]\n",
      "  [1. 1. 1. 1. 1.]\n",
      "  [1. 1. 1. 1. 1.]]\n",
      "\n",
      " [[1. 1. 1. 1. 1.]\n",
      "  [1. 1. 1. 1. 1.]\n",
      "  [1. 1. 1. 1. 1.]]]\n"
     ]
    }
   ],
   "source": [
    "# your code here\n",
    "c = b.reshape(2,3,5)\n",
    "print(c)"
   ]
  },
  {
   "cell_type": "markdown",
   "metadata": {},
   "source": [
    "#### 10. Try to add *a* and *c*. Now it should work. Assign the sum to variable *d*. But why does it work now?"
   ]
  },
  {
   "cell_type": "code",
   "execution_count": 37,
   "metadata": {},
   "outputs": [
    {
     "name": "stdout",
     "output_type": "stream",
     "text": [
      "[[[70. 17. 54. 34. 77.]\n",
      "  [67. 97. 22. 60. 50.]\n",
      "  [14.  2. 20. 91. 47.]]\n",
      "\n",
      " [[42. 46. 30. 83. 10.]\n",
      "  [35. 58. 97. 13. 17.]\n",
      "  [13. 85. 31. 98. 50.]]]\n"
     ]
    }
   ],
   "source": [
    "# your code/answer here\n",
    "d = a + c\n",
    "print(d)\n",
    "\n",
    "#Answer: now it works because both arrays have the same shape"
   ]
  },
  {
   "cell_type": "markdown",
   "metadata": {},
   "source": [
    "#### 11. Print *a* and *d*. Notice the difference and relation of the two array in terms of the values? Explain."
   ]
  },
  {
   "cell_type": "code",
   "execution_count": 38,
   "metadata": {},
   "outputs": [
    {
     "name": "stdout",
     "output_type": "stream",
     "text": [
      "[[[69 16 53 33 76]\n",
      "  [66 96 21 59 49]\n",
      "  [13  1 19 90 46]]\n",
      "\n",
      " [[41 45 29 82  9]\n",
      "  [34 57 96 12 16]\n",
      "  [12 84 30 97 49]]]\n",
      "[[[70. 17. 54. 34. 77.]\n",
      "  [67. 97. 22. 60. 50.]\n",
      "  [14.  2. 20. 91. 47.]]\n",
      "\n",
      " [[42. 46. 30. 83. 10.]\n",
      "  [35. 58. 97. 13. 17.]\n",
      "  [13. 85. 31. 98. 50.]]]\n"
     ]
    }
   ],
   "source": [
    "# your code/answer here\n",
    "print(a)\n",
    "print(d)\n",
    "\n",
    "#Answer: values in array d equal all values in array a + 1. Also, values in array d are floats because np.ones\n",
    "#generates floats by default, whereas array a has integers because randint generates int by default. \n",
    "#The sum of float + int becomes float, which is why array d contains floats"
   ]
  },
  {
   "cell_type": "markdown",
   "metadata": {},
   "source": [
    "#### 12. Multiply *a* and *c*. Assign the result to *e*."
   ]
  },
  {
   "cell_type": "code",
   "execution_count": 39,
   "metadata": {},
   "outputs": [
    {
     "name": "stdout",
     "output_type": "stream",
     "text": [
      "[[[69. 16. 53. 33. 76.]\n",
      "  [66. 96. 21. 59. 49.]\n",
      "  [13.  1. 19. 90. 46.]]\n",
      "\n",
      " [[41. 45. 29. 82.  9.]\n",
      "  [34. 57. 96. 12. 16.]\n",
      "  [12. 84. 30. 97. 49.]]]\n"
     ]
    }
   ],
   "source": [
    "# your code here\n",
    "e = a * c\n",
    "print(e)"
   ]
  },
  {
   "cell_type": "markdown",
   "metadata": {},
   "source": [
    "#### 13. Does *e* equal to *a*? Why or why not?\n"
   ]
  },
  {
   "cell_type": "code",
   "execution_count": 42,
   "metadata": {},
   "outputs": [
    {
     "name": "stdout",
     "output_type": "stream",
     "text": [
      "[[[ True  True  True  True  True]\n",
      "  [ True  True  True  True  True]\n",
      "  [ True  True  True  True  True]]\n",
      "\n",
      " [[ True  True  True  True  True]\n",
      "  [ True  True  True  True  True]\n",
      "  [ True  True  True  True  True]]]\n",
      "False\n"
     ]
    }
   ],
   "source": [
    "# your code/answer here\n",
    "print(e == a)\n",
    "print(e is a)\n",
    "\n",
    "#Answer: values inside e equal values inside a, because we have multiplied each value in a * 1\n",
    "#However, a and e are different objects"
   ]
  },
  {
   "cell_type": "markdown",
   "metadata": {},
   "source": [
    "#### 14. Identify the max, min, and mean values in *d*. Assign those values to variables *d_max*, *d_min* and *d_mean*."
   ]
  },
  {
   "cell_type": "code",
   "execution_count": 45,
   "metadata": {},
   "outputs": [
    {
     "name": "stdout",
     "output_type": "stream",
     "text": [
      "The max is 98.0, the min is 2.0, and the mean is 47.666666666666664\n"
     ]
    }
   ],
   "source": [
    "# your code here\n",
    "d_max = np.max(d)\n",
    "d_min = np.min(d)\n",
    "d_mean = np.mean(d)\n",
    "\n",
    "print(f'The max is {d_max}, the min is {d_min}, and the mean is {d_mean}')"
   ]
  },
  {
   "cell_type": "markdown",
   "metadata": {},
   "source": [
    "#### 15. Now we want to label the values in *d*. First create an empty array *f* with the same shape (i.e. 2x3x5) as *d* using `np.empty`.\n"
   ]
  },
  {
   "cell_type": "code",
   "execution_count": 50,
   "metadata": {},
   "outputs": [],
   "source": [
    "# your code here\n",
    "f = np.empty([2,3,5])"
   ]
  },
  {
   "cell_type": "markdown",
   "metadata": {},
   "source": [
    "#### 16. Populate the values in *f*. \n",
    "\n",
    "For each value in *d*, if it's larger than *d_min* but smaller than *d_mean*, assign 25 to the corresponding value in *f*. If a value in *d* is larger than *d_mean* but smaller than *d_max*, assign 75 to the corresponding value in *f*. If a value equals to *d_mean*, assign 50 to the corresponding value in *f*. Assign 0 to the corresponding value(s) in *f* for *d_min* in *d*. Assign 100 to the corresponding value(s) in *f* for *d_max* in *d*. In the end, f should have only the following values: 0, 25, 50, 75, and 100.\n",
    "\n",
    "**Note**: you don't have to use Numpy in this question."
   ]
  },
  {
   "cell_type": "code",
   "execution_count": 55,
   "metadata": {},
   "outputs": [
    {
     "name": "stdout",
     "output_type": "stream",
     "text": [
      "[[[70. 17. 54. 34. 77.]\n",
      "  [67. 97. 22. 60. 50.]\n",
      "  [14.  2. 20. 91. 47.]]\n",
      "\n",
      " [[42. 46. 30. 83. 10.]\n",
      "  [35. 58. 97. 13. 17.]\n",
      "  [13. 85. 31. 98. 50.]]]\n",
      "98.0\n",
      "2.0\n",
      "47.666666666666664\n"
     ]
    }
   ],
   "source": [
    "#Just copying all values in d again for reference:\n",
    "print(d)\n",
    "print(d_max)\n",
    "print(d_min)\n",
    "print(d_mean)"
   ]
  },
  {
   "cell_type": "code",
   "execution_count": 75,
   "metadata": {},
   "outputs": [
    {
     "name": "stdout",
     "output_type": "stream",
     "text": [
      "[[[ 75  25  75  25  75]\n",
      "  [ 75  75  25  75  75]\n",
      "  [ 25   0  25  75  25]]\n",
      "\n",
      " [[ 25  25  25  75  25]\n",
      "  [ 25  75  75  25  25]\n",
      "  [ 25  75  25 100  75]]]\n"
     ]
    }
   ],
   "source": [
    "# your code here\n",
    "\n",
    "# Note: I have had problems to append the new values to the already created empty list\n",
    "# The code below is not exactly what was asked (first I generate a new flat list, then I reshape it), but\n",
    "# it achieves the same result\n",
    "\n",
    "list_updated = []\n",
    "for big_list in d:\n",
    "    for small_list in big_list:\n",
    "        for value in small_list:\n",
    "            if value > d_min and value < d_mean:\n",
    "                value = 25\n",
    "            elif value > d_mean and value < d_max:\n",
    "                value = 75\n",
    "            elif value == d_mean:\n",
    "                value = 50\n",
    "            elif value == d_min:\n",
    "                value = 0\n",
    "            else:\n",
    "                value = 100\n",
    "            list_updated.append(value)\n",
    "\n",
    "f = np.array(list_updated).reshape(2,3,5)\n",
    "\n",
    "print(f)\n"
   ]
  },
  {
   "cell_type": "markdown",
   "metadata": {},
   "source": [
    "#### 17. Print *d* and *f*. Do you have your expected *f*?\n",
    "For instance, if your *d* is:\n",
    "```python\n",
    "[[[1.85836099, 1.67064465, 1.62576044, 1.40243961, 1.88454931],\n",
    "[1.75354326, 1.69403643, 1.36729252, 1.61415071, 1.12104981],\n",
    "[1.72201435, 1.1862918 , 1.87078449, 1.7726778 , 1.88180042]],\n",
    "[[1.44747908, 1.31673383, 1.02000951, 1.52218947, 1.97066381],\n",
    "[1.79129243, 1.74983003, 1.96028037, 1.85166831, 1.65450881],\n",
    "[1.18068344, 1.9587381 , 1.00656599, 1.93402165, 1.73514584]]]\n",
    "```\n",
    "Your *f* should be:\n",
    "```python\n",
    "[[[ 75.,  75.,  75.,  25.,  75.],\n",
    "[ 75.,  75.,  25.,  25.,  25.],\n",
    "[ 75.,  25.,  75.,  75.,  75.]],\n",
    "[[ 25.,  25.,  25.,  25., 100.],\n",
    "[ 75.,  75.,  75.,  75.,  75.],\n",
    "[ 25.,  75.,   0.,  75.,  75.]]]\n",
    "```"
   ]
  },
  {
   "cell_type": "code",
   "execution_count": 78,
   "metadata": {},
   "outputs": [
    {
     "name": "stdout",
     "output_type": "stream",
     "text": [
      "[[[70. 17. 54. 34. 77.]\n",
      "  [67. 97. 22. 60. 50.]\n",
      "  [14.  2. 20. 91. 47.]]\n",
      "\n",
      " [[42. 46. 30. 83. 10.]\n",
      "  [35. 58. 97. 13. 17.]\n",
      "  [13. 85. 31. 98. 50.]]]\n",
      "\n",
      "[[[ 75  25  75  25  75]\n",
      "  [ 75  75  25  75  75]\n",
      "  [ 25   0  25  75  25]]\n",
      "\n",
      " [[ 25  25  25  75  25]\n",
      "  [ 25  75  75  25  25]\n",
      "  [ 25  75  25 100  75]]]\n"
     ]
    }
   ],
   "source": [
    "# your code here\n",
    "print(d)\n",
    "print()\n",
    "print(f)\n",
    "\n",
    "#Answer: yes, the result for f is as expected"
   ]
  },
  {
   "cell_type": "markdown",
   "metadata": {},
   "source": [
    "#### 18. Bonus question: instead of using numbers (i.e. 0, 25, 50, 75, and 100), use string values  (\"A\", \"B\", \"C\", \"D\", and \"E\") to label the array elements. For the example above, the expected result is:\n",
    "\n",
    "```python\n",
    "[[[ 'D',  'D',  'D',  'B',  'D'],\n",
    "[ 'D',  'D',  'B',  'B',  'B'],\n",
    "[ 'D',  'B',  'D',  'D',  'D']],\n",
    "[[ 'B',  'B',  'B',  'B',  'E'],\n",
    "[ 'D',  'D',  'D',  'D',  'D'],\n",
    "[ 'B',  'D',   'A',  'D', 'D']]]\n",
    "```\n",
    "**Note**: you don't have to use Numpy in this question."
   ]
  },
  {
   "cell_type": "code",
   "execution_count": 80,
   "metadata": {},
   "outputs": [
    {
     "name": "stdout",
     "output_type": "stream",
     "text": [
      "[[['D' 'B' 'D' 'B' 'D']\n",
      "  ['D' 'D' 'B' 'D' 'D']\n",
      "  ['B' 'A' 'B' 'D' 'B']]\n",
      "\n",
      " [['B' 'B' 'B' 'D' 'B']\n",
      "  ['B' 'D' 'D' 'B' 'B']\n",
      "  ['B' 'D' 'B' 'E' 'D']]]\n"
     ]
    }
   ],
   "source": [
    "# your code here\n",
    "\n",
    "list_updated_2 = []\n",
    "for big_list in d:\n",
    "    for small_list in big_list:\n",
    "        for value in small_list:\n",
    "            if value > d_min and value < d_mean:\n",
    "                value = 'B'\n",
    "            elif value > d_mean and value < d_max:\n",
    "                value = 'D'\n",
    "            elif value == d_mean:\n",
    "                value = 'C'\n",
    "            elif value == d_min:\n",
    "                value = 'A'\n",
    "            else:\n",
    "                value = 'E'\n",
    "            list_updated_2.append(value)\n",
    "\n",
    "g = np.array(list_updated_2).reshape(2,3,5)\n",
    "\n",
    "print(g)"
   ]
  }
 ],
 "metadata": {
  "kernelspec": {
   "display_name": "Python 3 (ipykernel)",
   "language": "python",
   "name": "python3"
  },
  "language_info": {
   "codemirror_mode": {
    "name": "ipython",
    "version": 3
   },
   "file_extension": ".py",
   "mimetype": "text/x-python",
   "name": "python",
   "nbconvert_exporter": "python",
   "pygments_lexer": "ipython3",
   "version": "3.9.7"
  }
 },
 "nbformat": 4,
 "nbformat_minor": 2
}
